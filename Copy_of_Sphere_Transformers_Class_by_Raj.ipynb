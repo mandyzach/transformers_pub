{
  "cells": [
    {
      "cell_type": "markdown",
      "metadata": {
        "id": "view-in-github",
        "colab_type": "text"
      },
      "source": [
        "<a href=\"https://colab.research.google.com/github/mandyzach/transformers_pub/blob/main/Copy_of_Sphere_Transformers_Class_by_Raj.ipynb\" target=\"_parent\"><img src=\"https://colab.research.google.com/assets/colab-badge.svg\" alt=\"Open In Colab\"/></a>"
      ]
    },
    {
      "cell_type": "markdown",
      "metadata": {
        "id": "gh6QOr-qO4Ym"
      },
      "source": [
        "[![Open In Colab](https://colab.research.google.com/assets/colab-badge.svg)](https://colab.research.google.com/drive/1Oc5Myu--_5ZWIn_EX7M7sHDMbIo_Eb34)\n",
        "\n",
        "\n",
        "## Sphere Transformers Class Day 1 (Pretrain) - Overview Notebook\n",
        "\n",
        "This notebook is a self-contained way to start using transformers. \n",
        "\n",
        "- For additional notebooks:\n",
        "  - The [**official transformers notebooks**](https://huggingface.co/docs/transformers/notebooks).\n",
        "  - Julien's Amazon Shoe review [notebooks](https://gitlab.com/juliensimon/huggingface-demos/-/tree/main/amazon-shoes).\n",
        "  - Niels [Transformers Tutorials](https://github.com/NielsRogge/Transformers-Tutorials).\n",
        "  - Philipp's [blog](https://www.philschmid.de/)."
      ]
    },
    {
      "cell_type": "markdown",
      "metadata": {
        "id": "D_Iv1CJZPekG"
      },
      "source": [
        "**Learning goals:** The goal of this tutorial is to learn How To\n",
        "\n",
        "1. Use pre-trained pipelines\n",
        "2. Get embeddings\n",
        "3. Build a multimodal models\n",
        "\n",
        "**Steps to Do:** How to best use this notebook\n",
        "\n",
        "1. Make a copy of this notebook, so you can keep your changes\n",
        "\n"
      ]
    },
    {
      "cell_type": "code",
      "execution_count": null,
      "metadata": {
        "id": "lb65KY8VcSV8"
      },
      "outputs": [],
      "source": [
        "%pip install --quiet transformers datasets sentence-transformers"
      ]
    },
    {
      "cell_type": "markdown",
      "metadata": {
        "id": "_-wtA32Tbfbd"
      },
      "source": [
        "#Exploring Tasks at Hugging Face Hub on the Web:\n",
        "[Hugging Face Tasks](https://hf.co/tasks) \n",
        "\n",
        "---\n",
        "\n",
        "[Automated Speech Recognition](https://huggingface.co/tasks/automatic-speech-recognition)\n",
        "\n",
        "[Object Detection](https://huggingface.co/tasks/object-detection)\n",
        "\n",
        "[Summarization](https://huggingface.co/tasks/summarization)\n"
      ]
    },
    {
      "cell_type": "markdown",
      "metadata": {
        "id": "Vqq4sZ4Qb8me"
      },
      "source": [
        "#Pre-Trained Models with Pipelines -> ✨ Easy Mode ✨"
      ]
    },
    {
      "cell_type": "markdown",
      "metadata": {
        "id": "DpvE1ionWmLy"
      },
      "source": [
        "The [pipeline()](https://huggingface.co/docs/transformers/main/en/main_classes/pipelines#transformers.pipeline) supports many 20+ common tasks out-of-the-box:\n",
        "\n",
        "**Text**:\n",
        "* Sentiment analysis: classify the polarity of a given text.\n",
        "* Text generation (in English): generate text from a given input.\n",
        "* Name entity recognition (NER): label each word with the entity it represents (person, date, location, etc.).\n",
        "* Question answering: extract the answer from the context, given some context and a question.\n",
        "\n",
        "**Image**:\n",
        "* Image classification: classify an image.\n",
        "* Image segmentation: classify every pixel in an image.\n",
        "* Object detection: detect objects within an image.\n",
        "\n",
        "**Audio**:\n",
        "* Audio classification: assign a label to a given segment of audio.\n",
        "* Automatic speech recognition (ASR): transcribe audio data into text.\n",
        "\n",
        "**MultiModal**:\n",
        "* Visual Question Answering: answers open-ended questions about images\n",
        "* Image To Text: predicts a caption for a given image"
      ]
    },
    {
      "cell_type": "markdown",
      "metadata": {
        "id": "wBYp9IOZDWNB"
      },
      "source": [
        "###Text"
      ]
    },
    {
      "cell_type": "markdown",
      "metadata": {
        "id": "EAdyiTBfn89u"
      },
      "source": [
        "#### Sentiment Analysis"
      ]
    },
    {
      "cell_type": "code",
      "execution_count": null,
      "metadata": {
        "colab": {
          "base_uri": "https://localhost:8080/"
        },
        "id": "5BdG8xniVmka",
        "outputId": "32f66585-387d-486d-a91e-5f02515e1a93"
      },
      "outputs": [
        {
          "output_type": "stream",
          "name": "stderr",
          "text": [
            "No model was supplied, defaulted to distilbert-base-uncased-finetuned-sst-2-english and revision af0f99b (https://huggingface.co/distilbert-base-uncased-finetuned-sst-2-english).\n",
            "Using a pipeline without specifying a model name and revision in production is not recommended.\n"
          ]
        }
      ],
      "source": [
        "from transformers import pipeline\n",
        "sent_classifier = pipeline(\"sentiment-analysis\")"
      ]
    },
    {
      "cell_type": "code",
      "execution_count": null,
      "metadata": {
        "id": "BKkkyOlfcing",
        "colab": {
          "base_uri": "https://localhost:8080/"
        },
        "outputId": "95a1f1be-d059-4d89-f289-40743fd71713"
      },
      "outputs": [
        {
          "output_type": "execute_result",
          "data": {
            "text/plain": [
              "[{'label': 'NEGATIVE', 'score': 0.9962730407714844}]"
            ]
          },
          "metadata": {},
          "execution_count": 6
        }
      ],
      "source": [
        "sent_classifier(\"I am sad about today\")"
      ]
    },
    {
      "cell_type": "markdown",
      "metadata": {
        "id": "7Ksx_p5Vn_fs"
      },
      "source": [
        "#### Text Generation"
      ]
    },
    {
      "cell_type": "markdown",
      "metadata": {
        "id": "YEhd0L8J6QRO"
      },
      "source": [
        "If you want to see what other tasks are available, check out all the [pipeline tasks](https://huggingface.co/docs/transformers/main/en/main_classes/pipelines#the-task-specific-pipelines) in the docs."
      ]
    },
    {
      "cell_type": "code",
      "execution_count": null,
      "metadata": {
        "id": "I_KuISyQtcPI",
        "colab": {
          "base_uri": "https://localhost:8080/"
        },
        "outputId": "cac02baf-98ad-4f7b-c676-07aadd2457fd"
      },
      "outputs": [
        {
          "output_type": "stream",
          "name": "stderr",
          "text": [
            "No model was supplied, defaulted to gpt2 and revision 6c0e608 (https://huggingface.co/gpt2).\n",
            "Using a pipeline without specifying a model name and revision in production is not recommended.\n"
          ]
        }
      ],
      "source": [
        "from transformers import pipeline\n",
        "generator = pipeline(\"text-generation\")"
      ]
    },
    {
      "cell_type": "code",
      "execution_count": null,
      "metadata": {
        "id": "68DDB1ittVvv",
        "colab": {
          "base_uri": "https://localhost:8080/"
        },
        "outputId": "1f055b64-b2d0-4b09-a7e5-d81724416f33"
      },
      "outputs": [
        {
          "output_type": "stream",
          "name": "stderr",
          "text": [
            "/usr/local/lib/python3.9/dist-packages/transformers/generation/utils.py:1201: UserWarning: You have modified the pretrained model configuration to control generation. This is a deprecated strategy to control generation and will be removed soon, in a future version. Please use a generation configuration file (see https://huggingface.co/docs/transformers/main_classes/text_generation)\n",
            "  warnings.warn(\n",
            "Setting `pad_token_id` to `eos_token_id`:50256 for open-end generation.\n",
            "/usr/local/lib/python3.9/dist-packages/transformers/generation/utils.py:1288: UserWarning: Using `max_length`'s default (50) to control the generation length. This behaviour is deprecated and will be removed from the config in v5 of Transformers -- we recommend using `max_new_tokens` to control the maximum length of the generation.\n",
            "  warnings.warn(\n"
          ]
        },
        {
          "output_type": "execute_result",
          "data": {
            "text/plain": [
              "[{'generated_text': \"Once upon a time, the two of them might have been rivals in fighting for possession of a place in the final three when they met with their respective teams. We've already seen this relationship developed with Barcelona in the past.\\n\\nThis is not\"}]"
            ]
          },
          "metadata": {},
          "execution_count": 8
        }
      ],
      "source": [
        "generator(\"Once upon a time,\")"
      ]
    },
    {
      "cell_type": "code",
      "execution_count": null,
      "metadata": {
        "id": "WXE5JFkHlmLC",
        "colab": {
          "base_uri": "https://localhost:8080/"
        },
        "outputId": "ae68b2e6-37d3-4412-ddf2-21edac5342ee"
      },
      "outputs": [
        {
          "output_type": "stream",
          "name": "stderr",
          "text": [
            "Setting `pad_token_id` to `eos_token_id`:50256 for open-end generation.\n"
          ]
        },
        {
          "output_type": "execute_result",
          "data": {
            "text/plain": [
              "[{'generated_text': 'In this course, we will teach you how to navigate and analyze your own environment and its behaviors through the use of Google APIs and real-time visualization. Topics will cover the following:\\n\\nReal-time visualization\\n\\nWeb application development\\n\\n'}]"
            ]
          },
          "metadata": {},
          "execution_count": 9
        }
      ],
      "source": [
        "generator(\"In this course, we will teach you how to\")"
      ]
    },
    {
      "cell_type": "markdown",
      "metadata": {
        "id": "F3iwLYgdDd4-"
      },
      "source": [
        "###Image"
      ]
    },
    {
      "cell_type": "code",
      "source": [
        "from IPython.display import Image\n",
        "Image('https://huggingface.co/datasets/huggingface/documentation-images/resolve/main/pipeline-cat-chonk.jpeg')"
      ],
      "metadata": {
        "colab": {
          "base_uri": "https://localhost:8080/",
          "height": 703
        },
        "id": "vJIC5gtzIFT3",
        "outputId": "c27625e6-f33f-44d0-af43-d51a8b7b7dc9"
      },
      "execution_count": null,
      "outputs": [
        {
          "output_type": "execute_result",
          "data": {
            "image/jpeg": "[encoded data removed]",
            "text/plain": [
              "<IPython.core.display.Image object>"
            ]
          },
          "metadata": {},
          "execution_count": 10
        }
      ]
    },
    {
      "cell_type": "code",
      "execution_count": null,
      "metadata": {
        "id": "4uImYTfZC5Kr",
        "colab": {
          "base_uri": "https://localhost:8080/"
        },
        "outputId": "702d5e0e-029a-481b-f5f9-5a82e5978a84"
      },
      "outputs": [
        {
          "output_type": "stream",
          "name": "stderr",
          "text": [
            "No model was supplied, defaulted to google/vit-base-patch16-224 and revision 5dca96d (https://huggingface.co/google/vit-base-patch16-224).\n",
            "Using a pipeline without specifying a model name and revision in production is not recommended.\n"
          ]
        },
        {
          "output_type": "stream",
          "name": "stdout",
          "text": [
            "Class lynx, catamount with score 0.4403\n",
            "Class cougar, puma, catamount, mountain lion, painter, panther, Felis concolor with score 0.0343\n",
            "Class snow leopard, ounce, Panthera uncia with score 0.0321\n",
            "Class Egyptian cat with score 0.0235\n",
            "Class tiger cat with score 0.023\n"
          ]
        }
      ],
      "source": [
        "vision_classifier = pipeline(task=\"image-classification\")\n",
        "imagepic=\"https://huggingface.co/datasets/huggingface/documentation-images/resolve/main/pipeline-cat-chonk.jpeg\"\n",
        "result = vision_classifier(\n",
        "    images=imagepic\n",
        ")\n",
        "print(\"\\n\".join([f\"Class {d['label']} with score {round(d['score'], 4)}\" for d in result]))"
      ]
    },
    {
      "cell_type": "markdown",
      "metadata": {
        "id": "7A2paz6EOZr9"
      },
      "source": [
        "### MultiModal"
      ]
    },
    {
      "cell_type": "code",
      "execution_count": null,
      "metadata": {
        "id": "g0XkhAkInazD",
        "colab": {
          "base_uri": "https://localhost:8080/"
        },
        "outputId": "f5db0b9e-2d56-4ceb-c33f-902c591406a3"
      },
      "outputs": [
        {
          "output_type": "stream",
          "name": "stderr",
          "text": [
            "No model was supplied, defaulted to dandelin/vilt-b32-finetuned-vqa and revision 4355f59 (https://huggingface.co/dandelin/vilt-b32-finetuned-vqa).\n",
            "Using a pipeline without specifying a model name and revision in production is not recommended.\n",
            "Could not find image processor class in the image processor config or the model config. Loading based on pattern matching with the model's feature extractor configuration.\n"
          ]
        },
        {
          "output_type": "execute_result",
          "data": {
            "text/plain": [
              "[{'score': 0.9079471230506897, 'answer': 'snowy'},\n",
              " {'score': 0.8918493390083313, 'answer': 'cold'},\n",
              " {'score': 0.17045751214027405, 'answer': 'snow'},\n",
              " {'score': 0.1665184646844864, 'answer': 'snowing'},\n",
              " {'score': 0.1090196892619133, 'answer': 'winter'}]"
            ]
          },
          "metadata": {},
          "execution_count": 12
        }
      ],
      "source": [
        "from transformers import AutoModelForVisualQuestionAnswering\n",
        "vqa_pipeline = pipeline(\"visual-question-answering\")\n",
        "vqa = vqa_pipeline(image=imagepic,\n",
        "                   question = \"What is the weather like\")\n",
        "                  #question = \"What color are the bushes\")\n",
        "vqa"
      ]
    },
    {
      "cell_type": "markdown",
      "metadata": {
        "id": "_UxkD67H61Se"
      },
      "source": [
        "If you are doing this solo, code up another task here (hint, check out the [tasks](https://huggingface.co/tasks) or [docs](https://huggingface.co/docs/transformers/main/en/main_classes/pipelines#transformers.pipeline) if need a shortcut)."
      ]
    },
    {
      "cell_type": "markdown",
      "source": [
        "How about a question/answer model?"
      ],
      "metadata": {
        "id": "q0thcGgyxdM6"
      }
    },
    {
      "cell_type": "code",
      "source": [
        "from google.colab import drive\n",
        "drive.mount('/content/drive')"
      ],
      "metadata": {
        "colab": {
          "base_uri": "https://localhost:8080/"
        },
        "id": "D8jS4BFsvvf7",
        "outputId": "d7cb1d31-dd96-41c2-97bd-3e8cab8db907"
      },
      "execution_count": null,
      "outputs": [
        {
          "output_type": "stream",
          "name": "stdout",
          "text": [
            "Drive already mounted at /content/drive; to attempt to forcibly remount, call drive.mount(\"/content/drive\", force_remount=True).\n"
          ]
        }
      ]
    },
    {
      "cell_type": "code",
      "source": [
        "from transformers import pipeline\n",
        "from PIL import Image\n",
        "\n",
        "pipe = pipeline(\"document-question-answering\", model=\"naver-clova-ix/donut-base-finetuned-docvqa\")\n",
        "\n",
        "question = \"What is the purchase amount?\"\n",
        "image = Image.open(\"invoice2\")\n",
        "\n",
        "pipe(image=image, question=question)\n"
      ],
      "metadata": {
        "id": "38ziBTrVxf_0",
        "colab": {
          "base_uri": "https://localhost:8080/"
        },
        "outputId": "a4c0d514-86c8-4c82-c0f2-245c040de1c4"
      },
      "execution_count": null,
      "outputs": [
        {
          "output_type": "stream",
          "name": "stderr",
          "text": [
            "Could not find image processor class in the image processor config or the model config. Loading based on pattern matching with the model's feature extractor configuration.\n"
          ]
        },
        {
          "output_type": "execute_result",
          "data": {
            "text/plain": [
              "[{'answer': 'ag0.00'}]"
            ]
          },
          "metadata": {},
          "execution_count": 18
        }
      ]
    },
    {
      "cell_type": "markdown",
      "metadata": {
        "id": "vvzcypV4pnYj"
      },
      "source": [
        "#Embeddings from Pre-Trained Models"
      ]
    },
    {
      "cell_type": "markdown",
      "metadata": {
        "id": "_VGdrwLxtEnR"
      },
      "source": [
        "### Image embeddings using [Distilled data-efficient Image Transformer (DeiT)](https://huggingface.co/facebook/deit-base-distilled-patch16-224)"
      ]
    },
    {
      "cell_type": "code",
      "execution_count": null,
      "metadata": {
        "id": "WjaT6GJbs2yq"
      },
      "outputs": [],
      "source": [
        "from PIL import Image\n",
        "import requests\n",
        "im = Image.open(requests.get(imagepic, stream=True).raw)"
      ]
    },
    {
      "cell_type": "code",
      "execution_count": null,
      "metadata": {
        "id": "G3haoeWJp9ba",
        "colab": {
          "base_uri": "https://localhost:8080/"
        },
        "outputId": "4b158e51-34bf-4a74-edfc-bbea497ab879"
      },
      "outputs": [
        {
          "output_type": "stream",
          "name": "stderr",
          "text": [
            "/usr/local/lib/python3.9/dist-packages/transformers/models/deit/feature_extraction_deit.py:28: FutureWarning: The class DeiTFeatureExtractor is deprecated and will be removed in version 5 of Transformers. Please use DeiTImageProcessor instead.\n",
            "  warnings.warn(\n"
          ]
        },
        {
          "output_type": "execute_result",
          "data": {
            "text/plain": [
              "{'pixel_values': tensor([[[[-1.9980, -2.0665, -2.1008,  ...,  0.8618,  0.4166, -0.2513],\n",
              "          [-1.9638, -2.0665, -2.1179,  ...,  0.8618,  0.3994, -0.2513],\n",
              "          [-2.0665, -2.1008, -2.1008,  ...,  0.8789,  0.3652, -0.3541],\n",
              "          ...,\n",
              "          [ 1.7523,  1.6667,  1.6667,  ...,  1.5639,  1.5639,  1.5297],\n",
              "          [ 1.7523,  1.7180,  1.7009,  ...,  1.5297,  1.5468,  1.5297],\n",
              "          [ 1.7523,  1.7694,  1.7523,  ...,  1.5297,  1.5297,  1.4954]],\n",
              "\n",
              "         [[-1.9832, -1.9832, -2.0182,  ...,  1.0105,  0.5553, -0.1625],\n",
              "          [-1.9482, -2.0007, -2.0357,  ...,  1.0105,  0.5378, -0.1450],\n",
              "          [-2.0007, -2.0357, -2.0357,  ...,  1.0455,  0.5203, -0.2150],\n",
              "          ...,\n",
              "          [ 2.0259,  1.9384,  1.9384,  ...,  1.8508,  1.8508,  1.8158],\n",
              "          [ 2.0434,  1.9909,  1.9734,  ...,  1.8158,  1.8333,  1.7983],\n",
              "          [ 2.0784,  2.0434,  2.0084,  ...,  1.8158,  1.8158,  1.7633]],\n",
              "\n",
              "         [[-1.6302, -1.7522, -1.7696,  ...,  1.2631,  0.8099,  0.0431],\n",
              "          [-1.5953, -1.7522, -1.7870,  ...,  1.2631,  0.7925,  0.0605],\n",
              "          [-1.6824, -1.7173, -1.7173,  ...,  1.2980,  0.7751,  0.0431],\n",
              "          ...,\n",
              "          [ 2.4483,  2.3611,  2.3611,  ...,  2.2391,  2.2391,  2.2043],\n",
              "          [ 2.4483,  2.4134,  2.3960,  ...,  2.2043,  2.2217,  2.2043],\n",
              "          [ 2.4831,  2.4657,  2.4308,  ...,  2.2043,  2.2043,  2.1868]]]])}"
            ]
          },
          "metadata": {},
          "execution_count": 20
        }
      ],
      "source": [
        "from transformers import AutoFeatureExtractor\n",
        "feature_extractor = AutoFeatureExtractor.from_pretrained('facebook/deit-base-distilled-patch16-224')\n",
        "embeddings = feature_extractor(images=im, return_tensors=\"pt\")\n",
        "embeddings\n"
      ]
    },
    {
      "cell_type": "markdown",
      "source": [
        "### Text Embeddings using Transformers"
      ],
      "metadata": {
        "id": "x8eZ-4I36a1P"
      }
    },
    {
      "cell_type": "code",
      "source": [
        "from transformers import pipeline\n",
        "checkpoint = \"facebook/bart-base\"\n",
        "feature_extractor = pipeline(\"feature-extraction\",framework=\"pt\",model=checkpoint)\n",
        "text = \"Transformers is an awesome library!\""
      ],
      "metadata": {
        "id": "M880_gzn6rxI"
      },
      "execution_count": null,
      "outputs": []
    },
    {
      "cell_type": "code",
      "source": [
        "embeddings = feature_extractor(text,return_tensors = \"pt\")[0].numpy().mean(axis=0) \n",
        "embeddings"
      ],
      "metadata": {
        "colab": {
          "base_uri": "https://localhost:8080/"
        },
        "id": "LEvZNYkDyrbb",
        "outputId": "14aa46e3-c1da-4c9d-c11e-d58bb0f612cd"
      },
      "execution_count": null,
      "outputs": [
        {
          "output_type": "execute_result",
          "data": {
            "text/plain": [
              "array([ 2.65979469e-01, -6.56846285e-01,  1.25627816e-01,  1.36602044e+00,\n",
              "       -7.59062231e-01,  7.56495953e-01, -1.05783403e+00, -1.87205933e-02,\n",
              "       -6.71835661e-01, -1.96252608e+00,  2.81317770e-01,  1.35964298e+00,\n",
              "       -7.21469196e-03,  9.12114680e-01,  3.43531340e-01, -1.35358393e+00,\n",
              "       -7.05922902e-01,  1.40108919e+00,  9.22238648e-01, -1.89350903e-01,\n",
              "        2.40267813e-01, -2.19242871e-01,  9.30556297e-01,  7.81986475e-01,\n",
              "       -1.01492178e+00, -5.85218489e-01,  6.38439536e-01, -4.86977959e+00,\n",
              "       -1.68945834e-01, -3.85040188e+00, -9.25554574e-01, -1.71881273e-01,\n",
              "        5.59035540e-02, -6.87880516e-01, -1.03691339e+00, -3.37631136e-01,\n",
              "        4.45499569e-01,  2.23247737e-01,  5.60621977e-01,  4.59311962e-01,\n",
              "        2.38988805e+00,  6.36417925e-01, -8.32769930e-01,  3.60406965e-01,\n",
              "       -2.03047618e-01,  9.03681993e-01, -1.65837598e+00,  1.19581735e+00,\n",
              "       -2.48081416e-01,  8.12375069e-01, -4.88462120e-01,  2.99311519e-01,\n",
              "        5.61740756e-01, -3.31204951e-01, -1.28257132e+00, -4.96819615e-03,\n",
              "        7.20307291e-01, -4.77440096e-02,  4.61458415e-01,  1.31555665e+00,\n",
              "       -2.52127111e-01, -2.13815153e-01, -8.04333389e-02, -7.61196017e-01,\n",
              "       -5.84885895e-01, -7.94291556e-01, -7.32237637e-01,  1.45702600e+00,\n",
              "        7.83098757e-01, -4.38807189e-01,  3.54019076e-01,  7.75776431e-02,\n",
              "        1.90865600e+00, -1.15280017e-01, -2.89797902e+00,  4.35574621e-01,\n",
              "        1.95469606e+00, -1.57005060e+00, -6.98930681e-01,  1.97129250e-01,\n",
              "        2.16546476e-01,  1.79927528e-01, -4.03967112e-01, -5.33972718e-02,\n",
              "        4.32768613e-02, -6.61528826e-01, -7.12179765e-02, -4.96349961e-01,\n",
              "        3.23692948e-01,  3.63478810e-01, -7.13343382e-01,  9.46864843e-01,\n",
              "       -4.25352037e-01, -1.62067175e+00,  4.80425715e-01,  6.41201973e-01,\n",
              "        2.59261280e-01,  5.41801751e-01, -3.12652349e-01, -7.57046640e-01,\n",
              "        1.49013734e+00,  2.58979321e+00, -1.38797522e+00,  6.22176647e-01,\n",
              "       -4.93913889e-03,  1.16229963e+00,  1.27965391e+00, -7.59562433e-01,\n",
              "        4.44991589e-01, -1.19959950e+00, -2.21593648e-01, -1.01445699e+00,\n",
              "       -1.89105466e-01, -3.31210673e-01,  8.83100033e-01, -1.40546873e-01,\n",
              "        3.58634681e-01, -4.30312842e-01,  1.20075560e+00, -3.19992155e-01,\n",
              "        1.29259300e+00,  1.60402954e+00, -1.70512414e+00,  4.31368142e-01,\n",
              "       -4.54190373e-01,  1.58636883e-01, -7.68503249e-01,  5.44381618e-01,\n",
              "       -7.79063940e-01,  7.52041340e-01,  3.63594532e-01,  1.50957751e+00,\n",
              "        4.73331720e-01,  5.57977915e-01,  3.91979456e-01, -1.21539748e+00,\n",
              "       -1.84798241e-01,  8.70273471e-01, -1.24984455e+00, -3.81816983e-01,\n",
              "       -2.21527204e-01, -2.32663333e-01,  1.01794243e+00,  4.10635442e-01,\n",
              "       -2.76573330e-01, -7.22177327e-02,  7.32806548e-02, -4.83184189e-01,\n",
              "        2.79750824e-02, -1.90760672e-01, -2.02779317e+00, -1.51623534e-02,\n",
              "        2.34252617e-01,  1.20170999e+00,  5.16300738e-01, -1.41488239e-01,\n",
              "       -2.46584356e-01,  1.91935614e-01, -2.89842755e-01,  7.42309570e-01,\n",
              "       -2.88151026e-01, -8.30339193e-01,  1.08718348e+00,  7.55697787e-01,\n",
              "        1.44117191e-01, -1.84054032e-01, -9.06795621e-01,  2.49310657e-01,\n",
              "       -3.42900485e-01,  8.78563762e-01,  3.04121114e-02,  1.34575808e+00,\n",
              "       -1.85381460e+00,  6.08438179e-02, -1.42206597e+00,  6.67507052e-01,\n",
              "        1.34546053e+00,  4.45354730e-01,  2.74103999e-01, -1.42620397e+00,\n",
              "        1.66471720e+00,  4.83930796e-01, -3.44172210e-01,  7.31653035e-01,\n",
              "       -1.34243429e-01,  3.96722168e-01,  6.22377276e-01,  3.31291199e-01,\n",
              "       -3.20088267e-01, -1.07533300e+00,  9.76716340e-01, -3.52601081e-01,\n",
              "       -1.31510258e-01, -1.68829501e-01, -1.38619637e+00,  8.90180826e-01,\n",
              "       -5.07530645e-02,  3.07506844e-02, -3.93886358e-01, -1.71657646e+00,\n",
              "        1.08871150e+00,  4.53436166e-01,  1.21618402e+00,  5.08168221e-01,\n",
              "       -6.95174396e-01, -9.72708583e-01, -6.98205471e-01, -3.77062559e-02,\n",
              "        5.14744043e-01,  7.26660132e-01,  1.42452821e-01,  1.70566320e+00,\n",
              "        2.11757973e-01,  7.90107787e-01, -1.11895120e+00,  9.30901393e-02,\n",
              "       -8.53542745e-01, -3.47613692e-01, -8.34993899e-01, -2.87237857e-02,\n",
              "        1.74926484e+00, -1.14972711e+00,  7.42217302e-01, -5.98051846e-01,\n",
              "        4.17294621e-01,  9.28568020e-02, -1.65214348e+00,  2.74254858e-01,\n",
              "       -6.29156768e-01, -6.69886708e-01, -6.18473291e-01,  4.31622297e-01,\n",
              "       -5.20274162e-01,  1.36027908e+00,  1.14785445e+00, -7.18701780e-01,\n",
              "        7.51574850e-03,  1.28168547e+00,  4.58477020e-01, -6.67252123e-01,\n",
              "       -8.71608913e-01,  1.54485464e+00,  9.50918436e-01,  1.56043851e+00,\n",
              "        4.03213233e-01,  1.39242446e+00, -1.03510588e-01,  5.22948980e-01,\n",
              "        6.63481951e-01, -2.78567672e-02, -7.29201615e-01, -3.53718013e-01,\n",
              "       -1.51166177e+00, -1.01856446e+00,  6.35556459e-01, -1.74585140e+00,\n",
              "        1.15104508e+00,  1.59911430e+00,  1.51997864e+00,  3.44797820e-01,\n",
              "       -1.03017664e+00, -3.45429182e-01, -3.04957658e-01, -1.52944848e-01,\n",
              "       -5.44562459e-01,  2.72868693e-01, -4.63097513e-01,  1.88960969e+00,\n",
              "       -6.39783561e-01,  4.92547452e-01,  3.46446633e-01,  1.83565050e-01,\n",
              "        3.37440044e-01,  8.80384684e-01, -1.57478440e+00,  2.41357937e-01,\n",
              "        3.42919648e-01, -1.77610844e-01, -1.44021702e+00, -4.05110389e-01,\n",
              "        9.36334133e-02,  1.14355326e+00,  5.38416088e-01, -1.01677418e+00,\n",
              "       -6.91159368e-01,  1.24062434e-01,  2.08524510e-01,  9.39109623e-02,\n",
              "        9.54437256e-01, -9.73228887e-02,  1.23226810e+00,  1.23787582e+00,\n",
              "       -3.61189574e-01,  9.04120326e-01,  1.90456212e-01,  3.66957992e-01,\n",
              "       -8.37931037e-01,  5.74375808e-01, -1.30377799e-01,  1.15551639e+00,\n",
              "        7.32961178e-01, -6.51615918e-01,  1.14175558e+00,  4.53374237e-01,\n",
              "       -1.02571733e-01,  1.62613523e+00,  2.79911399e-01, -9.57021713e-01,\n",
              "       -1.28427196e+00, -3.79492074e-01,  1.21321452e+00, -6.52287006e-01,\n",
              "       -7.16957152e-01,  8.21546555e-01, -2.78386265e-01,  1.13116932e+00,\n",
              "        1.09877825e+00, -9.30897474e-01,  3.44984800e-01,  8.14801872e-01,\n",
              "       -4.39908385e-01,  3.38641495e-01, -4.09136832e-01,  1.71416923e-01,\n",
              "        5.85779361e-02,  6.26304686e-01,  1.14245999e+00, -7.30409175e-02,\n",
              "        4.70406681e-01,  2.00712264e-01, -1.10264730e+00,  6.69936657e-01,\n",
              "        1.26470292e+00,  9.37945545e-02, -9.04536903e-01,  7.71071911e-02,\n",
              "        6.09872103e-01,  4.51008260e-01,  9.30153966e-01, -3.91749591e-01,\n",
              "        6.32269740e-01,  2.91941553e-01,  6.22447371e-01,  5.41503847e-01,\n",
              "        4.00292814e-01,  5.99478841e-01,  8.12302157e-02,  8.11390206e-02,\n",
              "        4.41665649e-01,  1.10141075e+00, -9.73565936e-01, -1.45525253e+00,\n",
              "        5.64942241e-01, -2.38153875e-01,  1.41103208e-01, -7.86106348e-01,\n",
              "        8.86056900e-01, -7.10840344e-01,  3.26999068e-01,  5.97461700e-01,\n",
              "       -1.95454776e-01, -5.74278712e-01,  1.28140807e-01,  8.05716217e-01,\n",
              "       -4.99953151e-01,  3.17016453e-01,  3.11145484e-01,  2.31078196e+00,\n",
              "       -6.16068691e-02, -4.31919008e-01, -1.45732671e-01,  6.16034269e-01,\n",
              "       -9.90341425e-01, -8.43520164e-02, -8.87244463e-01, -3.43031317e-01,\n",
              "        1.29097664e+00, -6.21536970e-01,  5.30033052e-01,  2.00960326e+00,\n",
              "       -3.07886481e-01, -3.07402819e-01, -2.99033016e-01,  1.58422244e+00,\n",
              "        6.66769803e-01,  9.46138084e-01,  1.00990891e+00, -4.43266153e-01,\n",
              "       -1.53554368e+00, -3.11963886e-01, -9.86445174e-02,  2.98548844e-02,\n",
              "       -2.61717796e-01, -2.58908916e+00, -4.89794105e-01,  2.49610424e+00,\n",
              "        5.08718669e-01,  6.50167942e-01,  3.08177650e-01,  4.27572936e-01,\n",
              "        2.46584117e-01, -3.61944318e-01,  3.36508512e-01,  1.83386862e+00,\n",
              "       -3.30815986e-02,  4.69550252e-01, -2.56732315e-01, -5.89861155e-01,\n",
              "        1.82226944e+00,  4.07911986e-01, -5.95186889e-01,  8.44996646e-02,\n",
              "        2.93201774e-01,  2.97689867e+00,  1.81511545e+00,  1.09478462e+00,\n",
              "        6.32768869e-01, -3.60258460e-01, -1.17961729e+00, -6.41383171e-01,\n",
              "       -1.11094698e-01, -3.20812613e-02,  6.67171240e-01, -3.80335003e-01,\n",
              "        2.60428756e-01,  2.25518751e+00,  6.14035845e-01, -1.76677540e-01,\n",
              "       -1.77043423e-01,  2.15038323e+00, -7.47119606e-01, -6.94939494e-01,\n",
              "       -8.47301304e-01, -8.48795846e-02,  8.57782662e-01,  5.92672050e-01,\n",
              "        8.59628022e-01, -2.30567956e+00, -7.14715004e-01,  1.16440320e+00,\n",
              "       -1.58270061e-01,  1.78712383e-01,  6.23533607e-01,  5.20011425e-01,\n",
              "        1.34862137e+00,  4.30683374e-01,  1.31071496e+00,  7.05768883e-01,\n",
              "        8.79336596e-01,  1.04244864e+00, -4.27515447e-01,  1.63319007e-01,\n",
              "       -1.31811368e+00,  3.38775307e-01,  6.16424024e-01,  9.51806486e-01,\n",
              "       -4.15797494e-02,  1.17272127e+00, -1.08082795e+00, -3.87873262e-01,\n",
              "       -6.65959775e-01, -8.24503183e-01, -1.04688621e+00,  3.82272214e-01,\n",
              "       -4.10087585e-01,  6.21690035e-01, -3.57833028e-01, -2.88852543e-01,\n",
              "       -3.67525429e-01, -6.23958945e-01, -1.07977837e-01, -7.72216022e-01,\n",
              "       -3.48410249e-01,  5.99237919e-01, -3.06324124e-01,  6.41631126e-01,\n",
              "        1.45477915e+00, -2.87822366e-01,  1.15087080e+00, -8.66090357e-01,\n",
              "        1.25644159e+00,  1.78620100e-01, -3.97543430e-01,  1.23447943e+00,\n",
              "        3.76233697e-01,  2.45015562e-01,  1.80351213e-02, -1.10603857e+00,\n",
              "        8.92205000e-01,  6.63500786e-01,  1.25622511e+00, -1.29875600e-01,\n",
              "       -5.97274065e-01, -3.75238031e-01,  4.66276288e-01,  2.05122054e-01,\n",
              "        8.55794430e-01, -4.02109814e+00,  1.44663191e+00,  2.47043535e-01,\n",
              "        6.41006410e-01, -2.76828766e-01,  9.26168740e-01,  4.13330346e-01,\n",
              "        3.42507124e-01,  1.37350798e+00, -1.03768337e+00,  2.95569092e-01,\n",
              "        7.84581006e-01, -6.02759793e-02, -1.78129464e-01, -8.99840236e-01,\n",
              "        1.44705975e+00,  1.71805060e+00,  1.68698102e-01, -5.69088638e-01,\n",
              "       -1.05946891e-01, -2.80163109e-01, -6.83286667e-01, -1.20706081e+00,\n",
              "       -6.09945059e-01, -1.30536151e+00, -2.01484144e-01, -2.13526352e-03,\n",
              "        8.87428641e-01, -7.25609422e-01,  1.03411424e+00,  6.20733082e-01,\n",
              "       -2.92526752e-01, -7.22839385e-02,  2.99866945e-01, -9.95002091e-01,\n",
              "        9.87490892e-01,  2.62368649e-01,  3.95637095e-01, -8.62838447e-01,\n",
              "       -3.04033399e-01,  3.50857884e-01, -4.46898416e-02,  9.52731371e-02,\n",
              "       -1.81237280e+00,  1.28287125e+00, -1.01697302e+00,  3.33019853e-01,\n",
              "        5.44874258e-02,  8.81245807e-02, -8.30182493e-01, -1.25741243e+00,\n",
              "        1.13769718e-01,  4.17068511e-01, -3.84529591e-01, -2.24329770e-01,\n",
              "        1.64284170e-01,  2.24695891e-01, -1.52362776e+00, -1.03049386e+00,\n",
              "        5.07937193e-01,  6.00864351e-01,  6.78084195e-01,  5.73505521e-01,\n",
              "        9.01763797e-01,  2.14455619e-01, -8.64828005e-02,  5.21135509e-01,\n",
              "       -3.84391451e+00, -4.32379097e-01,  3.86083484e-01, -5.74581385e-01,\n",
              "       -6.64483756e-02,  5.68239212e-01,  1.40972197e-01,  4.91560042e-01,\n",
              "       -1.59076011e+00,  4.58788544e-01, -3.81277966e+00, -3.56775552e-01,\n",
              "       -7.03040659e-01,  4.01635855e-01, -4.14998591e-01,  9.21633840e-01,\n",
              "       -2.88248628e-01,  5.43611228e-01, -1.87584102e-01,  1.77436516e-01,\n",
              "        3.09019417e-01, -8.21538627e-01,  9.64059174e-01, -4.18442070e-01,\n",
              "       -3.74808311e-01, -7.94256449e-01,  1.79039031e-01,  1.07198286e+00,\n",
              "        7.37931490e-01, -5.71661234e-01,  4.73279476e-01, -1.12489057e+00,\n",
              "       -8.20027113e-01,  1.16821051e+00,  1.13403916e+00, -8.37850153e-01,\n",
              "       -6.94696009e-01, -5.87070286e-01, -9.37980235e-01,  2.85805594e-02,\n",
              "       -1.03944562e-01,  8.15054297e-01,  2.77218103e-01,  1.07841027e+00,\n",
              "        8.49106550e-01, -1.22114146e+00,  1.31576523e-01,  4.65504676e-02,\n",
              "       -9.81024981e-01, -1.33689570e+00,  9.66922462e-01, -1.29471350e+00,\n",
              "        1.38093337e-01,  6.99725449e-01, -3.32961440e-01,  1.33537769e+00,\n",
              "       -3.91559750e-01,  5.63475907e-01, -2.24222124e-01, -2.44366109e-01,\n",
              "       -1.46851063e-01, -1.11731589e+00, -6.03064634e-02, -4.82764930e-01,\n",
              "        9.59275484e-01,  2.19666505e+00, -9.22762990e-01,  3.80298167e-01,\n",
              "        3.07932675e-01,  1.24998808e+00,  3.42894197e-01,  9.13802814e-03,\n",
              "       -2.37317801e-01, -5.78184538e-02, -1.28482476e-01,  8.15543175e-01,\n",
              "        4.25669290e-02,  1.63983083e+00, -2.73040831e-01, -1.85593873e-01,\n",
              "       -8.31671953e-01,  9.44417119e-01, -8.35879505e-01,  8.57546404e-02,\n",
              "       -2.79763162e-01,  9.06917572e-01,  3.24907452e-01,  3.79476547e-02,\n",
              "        1.75887551e-02, -3.66291881e-01, -5.95118590e-02,  6.87757790e-01,\n",
              "        5.07672608e-01,  8.89261961e-01,  1.69253901e-01, -2.01038301e-01,\n",
              "        5.85847795e-01,  1.67553294e+00,  4.36515987e-01, -3.62416595e-01,\n",
              "        8.22765753e-02,  4.75326270e-01,  1.03971982e+00,  1.17407966e+00,\n",
              "        1.08113897e+00,  1.17782414e+00,  7.19926596e-01, -6.69488013e-01,\n",
              "        1.36960939e-01,  1.56454718e+00, -4.26549852e-01, -9.29266512e-01,\n",
              "        7.18483925e-01,  3.78707945e-01,  7.51538217e-01,  9.56291258e-02,\n",
              "        2.21472740e-01,  2.28078645e-02,  5.18463254e-01,  1.02798831e+00,\n",
              "        2.11317152e-01,  1.61214125e+00,  7.54862368e-01, -9.27333832e-01,\n",
              "       -1.86410487e-01, -1.12251139e+00,  3.68849963e-01,  4.18063372e-01,\n",
              "        7.76561856e-01,  2.79441178e-02, -3.13859403e-01, -4.47743684e-01,\n",
              "        4.84260231e-01,  1.09082270e+00,  1.55656290e+00, -3.40696007e-01,\n",
              "        4.41435754e-01,  7.73886621e-01,  6.59893036e-01, -1.66957927e+00,\n",
              "       -1.25799334e+00,  7.65725970e-01,  7.07074404e-01, -1.03319347e+00,\n",
              "        5.52314520e-01,  3.94287854e-01,  3.92046958e-01, -1.49053916e-01,\n",
              "       -5.83782077e-01, -5.09694934e-01,  5.62452912e-01,  6.57409549e-01,\n",
              "       -5.00762701e-01,  4.95451659e-01,  3.58394384e-02, -7.79512644e-01,\n",
              "        4.42656338e-01, -2.28039160e-01,  8.00640583e-02,  1.79112267e+00,\n",
              "        3.67924392e-01,  1.30259657e+00,  1.01184225e+00, -8.26271772e-01,\n",
              "       -1.88018769e-01,  1.58396077e+00, -5.49806297e-01,  5.25782943e-01,\n",
              "       -8.63638461e-01, -5.48162997e-01,  4.79666919e-01,  4.72316802e-01,\n",
              "       -3.08873534e-01,  8.75111967e-02, -8.59508514e-01,  7.50891507e-01,\n",
              "       -2.64738172e-01,  7.62562454e-01, -4.49841142e-01,  1.45645514e-01,\n",
              "        1.01997614e+00,  3.77052099e-01, -2.72835732e-01,  4.99736249e-01,\n",
              "       -1.25989151e+00, -5.44753253e-01,  2.32419431e-01,  9.05423820e-01,\n",
              "       -5.48644245e-01,  7.33481586e-01, -5.10830760e-01,  1.30849287e-01,\n",
              "        7.81548381e-01, -4.22700435e-01, -3.84840429e-01,  1.11054170e+00,\n",
              "       -9.99024391e-01,  1.36228848e+00, -6.92069292e-01, -3.62364948e-01,\n",
              "       -2.13863149e-01,  7.48089194e-01, -6.61671042e-01,  3.47316146e-01],\n",
              "      dtype=float32)"
            ]
          },
          "metadata": {},
          "execution_count": 22
        }
      ]
    },
    {
      "cell_type": "markdown",
      "metadata": {
        "id": "QS_UIFY4tdcJ"
      },
      "source": [
        "### Text Embeddings using Sentence Transformers"
      ]
    },
    {
      "cell_type": "markdown",
      "source": [
        "There are many embedding models, the [all-mpnet-v2](https://huggingface.co/sentence-transformers/all-mpnet-base-v2) model is generally recommended as a good all around model. A more lightweight embedding model is the [all-MiniLM-L6-v2](https://huggingface.co/sentence-transformers/all-MiniLM-L6-v2). For a comprehensive analysis of embedding models, take a look at the [Massive Text Embedding Benchmark leaderboard](https://huggingface.co/spaces/mteb/leaderboard). "
      ],
      "metadata": {
        "id": "9XYQPJ-O9vut"
      }
    },
    {
      "cell_type": "code",
      "execution_count": null,
      "metadata": {
        "id": "zwSELkyarQgO",
        "colab": {
          "base_uri": "https://localhost:8080/"
        },
        "outputId": "81ed214b-6778-442f-c85e-ca9886bb5f92"
      },
      "outputs": [
        {
          "output_type": "execute_result",
          "data": {
            "text/plain": [
              "(1, 384)"
            ]
          },
          "metadata": {},
          "execution_count": 23
        }
      ],
      "source": [
        "from sentence_transformers import SentenceTransformer\n",
        "modelst = SentenceTransformer('paraphrase-MiniLM-L6-v2')\n",
        "sentence = ['It is a rainy and snowy day in Chicago']\n",
        "embedding = modelst.encode(sentence)\n",
        "embedding.shape"
      ]
    },
    {
      "cell_type": "code",
      "execution_count": null,
      "metadata": {
        "id": "4puw90EWSPie",
        "colab": {
          "base_uri": "https://localhost:8080/"
        },
        "outputId": "7ea839f0-be3f-4822-d196-abcbfdb731c2"
      },
      "outputs": [
        {
          "output_type": "execute_result",
          "data": {
            "text/plain": [
              "array([[-1.90922245e-01,  2.19291389e-01,  4.95836139e-01,\n",
              "         6.89154863e-01,  1.10104454e+00, -1.71076924e-01,\n",
              "         5.15361845e-01, -5.79576433e-01, -2.73292512e-01,\n",
              "         1.24872163e-01, -5.35711884e-01, -2.30359644e-01,\n",
              "        -8.11406314e-01,  3.25384974e-01, -2.16628417e-01,\n",
              "        -3.85915935e-01,  1.06839225e-01, -5.70077717e-01,\n",
              "         4.54695970e-01, -4.02072549e-01, -1.63759336e-01,\n",
              "        -1.64867282e-01,  9.09300372e-02, -1.70888796e-01,\n",
              "        -1.09851383e-01,  4.91057515e-01,  5.98450266e-02,\n",
              "         3.45198035e-01,  1.23925775e-01,  3.76321614e-01,\n",
              "         3.70342255e-01, -4.97264683e-01,  2.41834387e-01,\n",
              "         7.25663722e-01,  3.39644067e-02,  1.09647773e-01,\n",
              "         8.81727755e-01, -8.68318379e-02, -1.09535985e-01,\n",
              "         3.70743841e-01,  2.22442672e-01, -2.53347903e-01,\n",
              "         4.35435511e-02, -1.51720077e-01,  1.42707244e-01,\n",
              "         1.41808227e-01, -3.09765071e-01,  8.35139006e-02,\n",
              "         4.94303316e-01,  2.75144111e-02,  5.98336220e-01,\n",
              "        -6.74068153e-01, -1.28637537e-01,  9.18921709e-01,\n",
              "        -1.38807341e-01,  4.53477383e-01, -1.47871673e-01,\n",
              "        -5.23188412e-01,  6.38253272e-01, -8.86202380e-02,\n",
              "        -3.95659268e-01,  9.91758406e-02, -7.83004701e-01,\n",
              "         1.74897149e-01,  7.19527304e-01, -7.17831925e-02,\n",
              "        -6.00256681e-01,  3.17012876e-01, -3.50481033e-01,\n",
              "        -4.85333651e-01, -7.70108327e-02,  8.14294100e-01,\n",
              "        -3.62391829e-01, -3.36679757e-01, -4.93515193e-01,\n",
              "         3.49299535e-02,  1.28734224e-02,  2.14956149e-01,\n",
              "        -1.52411133e-01,  4.89935011e-01,  1.27706870e-01,\n",
              "        -2.56769776e-01,  5.68762839e-01,  7.35581992e-03,\n",
              "        -7.08081424e-02, -7.80965835e-02,  9.05954763e-02,\n",
              "        -1.42317399e-01,  3.48906368e-01, -5.54005027e-01,\n",
              "         5.98344347e-03,  1.05470851e-01, -4.12421137e-01,\n",
              "         3.42864305e-01,  1.58106908e-01,  5.86792350e-01,\n",
              "         7.28760302e-01, -9.26023796e-02, -2.09768206e-01,\n",
              "         2.23950401e-01, -1.02306157e-03, -8.77874419e-02,\n",
              "         4.98394012e-01, -1.06407970e-01,  1.34976089e-01,\n",
              "         4.95873332e-01,  4.24108468e-03, -2.67551064e-01,\n",
              "         2.90227860e-01, -2.42103323e-01, -5.51030077e-02,\n",
              "        -9.44850687e-03,  6.05979502e-01,  8.69032070e-02,\n",
              "        -2.79137492e-02, -1.68361723e-01, -7.04593301e-01,\n",
              "         6.58699453e-01, -4.91954982e-01, -3.24684709e-01,\n",
              "         9.47764795e-03, -1.63476449e-02, -8.24517570e-03,\n",
              "         1.03123836e-01,  2.06688926e-01,  1.77505687e-01,\n",
              "        -1.06955925e-02,  5.51655769e-01, -1.10143058e-01,\n",
              "        -4.87804800e-01,  5.89218028e-02,  1.01701163e-01,\n",
              "         6.09178722e-01, -3.39945287e-01,  9.59257558e-02,\n",
              "         3.36284675e-02, -3.33048105e-01,  2.72001833e-01,\n",
              "        -9.87152830e-02, -5.14048040e-01, -3.51684600e-01,\n",
              "         1.77481100e-01, -1.34888038e-01, -4.04897958e-01,\n",
              "         6.95798278e-01, -2.40120709e-01, -2.27882728e-01,\n",
              "         3.89835000e-01, -1.89426601e-01, -3.00825655e-01,\n",
              "        -2.43435234e-01, -2.66656160e-01,  9.51667726e-02,\n",
              "         1.50604039e-01, -3.09823900e-01,  5.78709543e-01,\n",
              "         7.11353660e-01,  5.40689863e-02, -2.13928204e-02,\n",
              "         5.81544518e-01,  4.48001087e-01,  3.70082110e-01,\n",
              "         2.67620027e-01,  7.63113424e-02,  5.15363514e-01,\n",
              "         2.25231469e-01,  2.88261384e-01, -2.87088186e-01,\n",
              "         3.09093028e-01, -4.99609858e-01, -7.25930572e-01,\n",
              "        -3.53425443e-01, -4.91989106e-02,  6.21594846e-01,\n",
              "        -1.50556024e-02, -1.01641417e+00,  3.45740587e-01,\n",
              "        -8.58534798e-02, -1.55926824e-01,  3.54491800e-01,\n",
              "         2.18957290e-02,  4.22190219e-01,  5.28784990e-01,\n",
              "         1.93195090e-01,  7.85516739e-01, -5.30898347e-02,\n",
              "         3.11778367e-01,  8.28689262e-02, -7.99799740e-01,\n",
              "         1.01113133e-01, -1.62658021e-01, -6.17943645e-01,\n",
              "         1.70925662e-01, -1.80397302e-01, -2.78352767e-01,\n",
              "         4.02226925e-01, -6.19446516e-01, -8.46323669e-02,\n",
              "         1.67258367e-01,  3.68053317e-01,  5.47884345e-01,\n",
              "        -1.59280956e-01,  2.03080311e-01, -7.26079583e-01,\n",
              "         2.43655875e-01, -7.75575638e-03, -4.37687859e-02,\n",
              "        -3.35974008e-01, -1.50903672e-01, -3.10822397e-01,\n",
              "         6.38214946e-01,  4.45344359e-01,  5.35591185e-01,\n",
              "        -3.84323418e-01,  1.22473380e-02,  2.91944802e-01,\n",
              "        -2.72462845e-01, -3.67938995e-01, -8.25474024e-01,\n",
              "         6.41352296e-01, -1.28537953e-01, -1.57453746e-01,\n",
              "         5.72125673e-01, -2.05653891e-01,  4.04695213e-01,\n",
              "        -4.53596234e-01, -2.99638391e-01, -1.06846876e-01,\n",
              "        -7.93562382e-02,  4.54568356e-01, -4.70004082e-02,\n",
              "         5.02017856e-01, -5.14181703e-02,  2.71314293e-01,\n",
              "        -7.08234787e-01, -2.44491771e-01, -3.87236416e-01,\n",
              "         3.19509387e-01,  7.08234847e-01,  5.31724334e-01,\n",
              "         1.69720188e-01,  1.71356916e-01, -5.98040111e-02,\n",
              "         3.86035323e-01,  2.94449609e-02, -3.24706078e-01,\n",
              "        -6.68181956e-01,  1.61244541e-01, -1.93503961e-01,\n",
              "        -2.60651052e-01,  3.52264792e-01,  4.34670836e-01,\n",
              "        -4.76650119e-01, -3.22733909e-01, -5.90331078e-01,\n",
              "         2.78287321e-01, -3.38422984e-01, -5.29700100e-01,\n",
              "        -1.85175508e-01,  6.44387722e-01,  2.53106505e-01,\n",
              "        -4.86821741e-01, -2.97687709e-01, -8.89679372e-01,\n",
              "         2.41566896e-01, -3.02885205e-01,  5.97589076e-01,\n",
              "         1.91952422e-01,  7.51341760e-01, -9.96584222e-02,\n",
              "        -6.40958190e-01, -2.30668008e-01, -1.93274930e-01,\n",
              "         2.39983089e-02, -1.20623879e-01, -3.08592111e-01,\n",
              "        -1.09753370e-01,  5.46025097e-01,  4.31934446e-01,\n",
              "        -1.32589445e-01, -6.23752922e-02, -4.28982168e-01,\n",
              "        -3.15679729e-01, -2.36847058e-01, -4.04639542e-01,\n",
              "         1.00845881e-01, -2.58355379e-01,  3.32655936e-01,\n",
              "         2.00064853e-01, -9.57575619e-01,  2.41746724e-01,\n",
              "         4.39198017e-01,  4.37874526e-01,  2.94679672e-01,\n",
              "        -2.77963340e-01, -2.45263085e-01, -2.49271281e-02,\n",
              "         3.25122148e-01,  2.96613246e-01, -3.00117135e-01,\n",
              "         5.07312536e-01, -3.85082453e-01, -1.29293635e-01,\n",
              "        -3.15286405e-02,  4.72301133e-02,  4.36968327e-01,\n",
              "         2.40813434e-01,  2.13234767e-01, -1.57515388e-02,\n",
              "        -6.17389083e-01,  2.78076559e-01, -1.65950030e-01,\n",
              "        -2.82804191e-01,  1.85041577e-01,  7.46858776e-01,\n",
              "         2.70678848e-01, -9.11154687e-01, -6.67084381e-02,\n",
              "        -4.79296327e-01, -1.10884972e-01, -5.57612240e-01,\n",
              "         2.81096473e-02, -1.82711795e-01, -3.64708871e-01,\n",
              "        -9.91092622e-02, -5.94595134e-01,  5.76136589e-01,\n",
              "         1.65840566e-01, -4.64242436e-02,  4.40008551e-01,\n",
              "        -2.71818191e-01,  5.09664565e-02,  1.11239314e-01,\n",
              "         6.77779913e-01, -3.86873811e-01, -6.69029802e-02,\n",
              "        -4.19481248e-01, -3.18151116e-01, -2.46355712e-01,\n",
              "        -8.38597566e-02, -3.27183694e-01,  3.82343769e-01,\n",
              "        -4.51515019e-01,  3.09455037e-01,  7.48977602e-01,\n",
              "        -5.58509111e-01, -1.51184797e-01, -3.24166915e-03,\n",
              "        -2.08326384e-01,  2.57320762e-01, -1.22932303e+00,\n",
              "         4.26709533e-01, -1.48481354e-01,  1.10393994e-01,\n",
              "         5.46342850e-01, -3.74288745e-02,  4.76117820e-01,\n",
              "         1.94507554e-01, -1.88048318e-01, -8.00441325e-01,\n",
              "         6.18894339e-01,  5.05530477e-01,  2.75747746e-01,\n",
              "        -1.00225322e-02,  3.04165095e-01,  2.08092108e-01,\n",
              "        -4.42773819e-01, -1.72491878e-01,  2.35323191e-01,\n",
              "        -1.31369427e-01, -5.71200430e-01, -3.08661938e-01,\n",
              "        -1.54274166e-01,  2.48685658e-01, -8.27555731e-02,\n",
              "        -4.39198405e-01, -7.55578637e-01,  3.60675007e-02,\n",
              "         4.49732333e-01,  3.58639122e-03, -4.59445864e-01,\n",
              "        -8.19877267e-01, -8.76660109e-01,  4.65581775e-01]], dtype=float32)"
            ]
          },
          "metadata": {},
          "execution_count": 24
        }
      ],
      "source": [
        "embedding"
      ]
    },
    {
      "cell_type": "code",
      "source": [],
      "metadata": {
        "id": "q2RP99h328yr"
      },
      "execution_count": null,
      "outputs": []
    }
  ],
  "metadata": {
    "accelerator": "GPU",
    "colab": {
      "provenance": [],
      "include_colab_link": true
    },
    "gpuClass": "standard",
    "kernelspec": {
      "display_name": "Python 3",
      "language": "python",
      "name": "python3"
    },
    "language_info": {
      "codemirror_mode": {
        "name": "ipython",
        "version": 3
      },
      "file_extension": ".py",
      "mimetype": "text/x-python",
      "name": "python",
      "nbconvert_exporter": "python",
      "pygments_lexer": "ipython3",
      "version": "3.9.5"
    }
  },
  "nbformat": 4,
  "nbformat_minor": 0
}